{
 "cells": [
  {
   "cell_type": "code",
   "execution_count": 1,
   "metadata": {},
   "outputs": [],
   "source": [
    "import pandas as pd\n",
    "import numpy as np\n",
    "import copy"
   ]
  },
  {
   "cell_type": "code",
   "execution_count": 2,
   "metadata": {},
   "outputs": [],
   "source": [
    "data_pre = pd.read_excel('./data.xlsx')"
   ]
  },
  {
   "cell_type": "code",
   "execution_count": 3,
   "metadata": {},
   "outputs": [
    {
     "data": {
      "text/html": [
       "<div>\n",
       "<style scoped>\n",
       "    .dataframe tbody tr th:only-of-type {\n",
       "        vertical-align: middle;\n",
       "    }\n",
       "\n",
       "    .dataframe tbody tr th {\n",
       "        vertical-align: top;\n",
       "    }\n",
       "\n",
       "    .dataframe thead th {\n",
       "        text-align: right;\n",
       "    }\n",
       "</style>\n",
       "<table border=\"1\" class=\"dataframe\">\n",
       "  <thead>\n",
       "    <tr style=\"text-align: right;\">\n",
       "      <th></th>\n",
       "      <th>单位</th>\n",
       "      <th>总价</th>\n",
       "      <th>人力</th>\n",
       "      <th>方案</th>\n",
       "      <th>设备级别</th>\n",
       "      <th>公司级别</th>\n",
       "      <th>能力成熟度</th>\n",
       "    </tr>\n",
       "  </thead>\n",
       "  <tbody>\n",
       "    <tr>\n",
       "      <th>0</th>\n",
       "      <td>A</td>\n",
       "      <td>220</td>\n",
       "      <td>6</td>\n",
       "      <td>30</td>\n",
       "      <td>10</td>\n",
       "      <td>10</td>\n",
       "      <td>5</td>\n",
       "    </tr>\n",
       "    <tr>\n",
       "      <th>1</th>\n",
       "      <td>B</td>\n",
       "      <td>190</td>\n",
       "      <td>8</td>\n",
       "      <td>25</td>\n",
       "      <td>9</td>\n",
       "      <td>8</td>\n",
       "      <td>3</td>\n",
       "    </tr>\n",
       "    <tr>\n",
       "      <th>2</th>\n",
       "      <td>C</td>\n",
       "      <td>180</td>\n",
       "      <td>8</td>\n",
       "      <td>28</td>\n",
       "      <td>7</td>\n",
       "      <td>7</td>\n",
       "      <td>4</td>\n",
       "    </tr>\n",
       "    <tr>\n",
       "      <th>3</th>\n",
       "      <td>D</td>\n",
       "      <td>170</td>\n",
       "      <td>7</td>\n",
       "      <td>23</td>\n",
       "      <td>8</td>\n",
       "      <td>7</td>\n",
       "      <td>2</td>\n",
       "    </tr>\n",
       "  </tbody>\n",
       "</table>\n",
       "</div>"
      ],
      "text/plain": [
       "  单位   总价  人力  方案  设备级别  公司级别  能力成熟度\n",
       "0  A  220   6  30    10    10      5\n",
       "1  B  190   8  25     9     8      3\n",
       "2  C  180   8  28     7     7      4\n",
       "3  D  170   7  23     8     7      2"
      ]
     },
     "execution_count": 3,
     "metadata": {},
     "output_type": "execute_result"
    }
   ],
   "source": [
    "data_pre"
   ]
  },
  {
   "cell_type": "code",
   "execution_count": 4,
   "metadata": {},
   "outputs": [],
   "source": [
    "label = data_pre.keys()[1:]"
   ]
  },
  {
   "cell_type": "code",
   "execution_count": 5,
   "metadata": {},
   "outputs": [
    {
     "data": {
      "text/plain": [
       "Index(['总价', '人力', '方案', '设备级别', '公司级别', '能力成熟度'], dtype='object')"
      ]
     },
     "execution_count": 5,
     "metadata": {},
     "output_type": "execute_result"
    }
   ],
   "source": [
    "label"
   ]
  },
  {
   "cell_type": "code",
   "execution_count": 6,
   "metadata": {},
   "outputs": [],
   "source": [
    "value = data_pre[label].values.astype(np.float64)\n",
    "data = copy.deepcopy(value) "
   ]
  },
  {
   "cell_type": "code",
   "execution_count": 7,
   "metadata": {},
   "outputs": [
    {
     "data": {
      "text/plain": [
       "array([[220.,   6.,  30.,  10.,  10.,   5.],\n",
       "       [190.,   8.,  25.,   9.,   8.,   3.],\n",
       "       [180.,   8.,  28.,   7.,   7.,   4.],\n",
       "       [170.,   7.,  23.,   8.,   7.,   2.]])"
      ]
     },
     "execution_count": 7,
     "metadata": {},
     "output_type": "execute_result"
    }
   ],
   "source": [
    "value"
   ]
  },
  {
   "cell_type": "code",
   "execution_count": 8,
   "metadata": {},
   "outputs": [],
   "source": [
    "for i in range(len(label)):\n",
    "    value[:, i] = value[:, i]/np.sqrt(np.sum(value[:, i] ** 2))"
   ]
  },
  {
   "cell_type": "code",
   "execution_count": 9,
   "metadata": {},
   "outputs": [
    {
     "data": {
      "text/plain": [
       "array([[0.57616108, 0.41111323, 0.56313829, 0.58321184, 0.61780206,\n",
       "        0.68041382],\n",
       "       [0.49759366, 0.54815097, 0.46928191, 0.52489066, 0.49424165,\n",
       "        0.40824829],\n",
       "       [0.47140452, 0.54815097, 0.52559574, 0.40824829, 0.43246144,\n",
       "        0.54433105],\n",
       "       [0.44521538, 0.4796321 , 0.43173936, 0.46656947, 0.43246144,\n",
       "        0.27216553]])"
      ]
     },
     "execution_count": 9,
     "metadata": {},
     "output_type": "execute_result"
    }
   ],
   "source": [
    "value"
   ]
  },
  {
   "cell_type": "code",
   "execution_count": 10,
   "metadata": {},
   "outputs": [],
   "source": [
    "# 获取权重\n",
    "# 标准归一化\n",
    "ymax = 1\n",
    "ymin = 0.002\n",
    "for i in range(len(label)):\n",
    "    data[:, i] = (ymax - ymin) * (data[:, i] - np.min(data[:, i]))/(np.max(data[:, i]) - np.min(data[:, i])) + ymin"
   ]
  },
  {
   "cell_type": "code",
   "execution_count": 11,
   "metadata": {},
   "outputs": [
    {
     "data": {
      "text/plain": [
       "array([[1.        , 0.002     , 1.        , 1.        , 1.        ,\n",
       "        1.        ],\n",
       "       [0.4012    , 1.        , 0.28714286, 0.66733333, 0.33466667,\n",
       "        0.33466667],\n",
       "       [0.2016    , 1.        , 0.71485714, 0.002     , 0.002     ,\n",
       "        0.66733333],\n",
       "       [0.002     , 0.501     , 0.002     , 0.33466667, 0.002     ,\n",
       "        0.002     ]])"
      ]
     },
     "execution_count": 11,
     "metadata": {},
     "output_type": "execute_result"
    }
   ],
   "source": [
    "data"
   ]
  },
  {
   "cell_type": "code",
   "execution_count": 12,
   "metadata": {},
   "outputs": [],
   "source": [
    "# 计算信息熵\n",
    "m = len(data_pre.index)\n",
    "n = len(label)\n",
    "P = np.zeros((m, n))\n",
    "E = np.zeros(n)\n",
    "for i in range(n):\n",
    "    P[:, i] = data[:, i]/np.sum(data[:, i])"
   ]
  },
  {
   "cell_type": "code",
   "execution_count": 13,
   "metadata": {},
   "outputs": [],
   "source": [
    "for i in range(n):\n",
    "    E[i] = -1/np.log(m)*np.sum(P[:, i]*np.log(P[:, i]))"
   ]
  },
  {
   "cell_type": "code",
   "execution_count": 14,
   "metadata": {},
   "outputs": [],
   "source": [
    "# 计算权重和得分\n",
    "w1 = (1 - E)/np.sum(1 - E)"
   ]
  },
  {
   "cell_type": "code",
   "execution_count": 15,
   "metadata": {},
   "outputs": [
    {
     "data": {
      "text/plain": [
       "array([0.1746776 , 0.11943681, 0.14179118, 0.13483358, 0.29442725,\n",
       "       0.13483358])"
      ]
     },
     "execution_count": 15,
     "metadata": {},
     "output_type": "execute_result"
    }
   ],
   "source": [
    "w1"
   ]
  },
  {
   "cell_type": "code",
   "execution_count": 16,
   "metadata": {},
   "outputs": [],
   "source": [
    "R1 = value*w1"
   ]
  },
  {
   "cell_type": "code",
   "execution_count": 17,
   "metadata": {},
   "outputs": [],
   "source": [
    "w2 = np.array([0.3724, 0.1003, 0.1991, 0.1991, 0.0998, 0.0485])\n",
    "R2 = value*w2"
   ]
  },
  {
   "cell_type": "code",
   "execution_count": 18,
   "metadata": {},
   "outputs": [],
   "source": [
    "R = R1\n",
    "# R = R2"
   ]
  },
  {
   "cell_type": "code",
   "execution_count": 19,
   "metadata": {},
   "outputs": [],
   "source": [
    "# 得到每个指标的距离\n",
    "r_max = R.max(axis=0)\n",
    "r_min = R.min(axis=0)"
   ]
  },
  {
   "cell_type": "code",
   "execution_count": 20,
   "metadata": {},
   "outputs": [
    {
     "data": {
      "text/plain": [
       "array([0.10064243, 0.0654694 , 0.07984804, 0.07863654, 0.18189776,\n",
       "       0.09174263])"
      ]
     },
     "execution_count": 20,
     "metadata": {},
     "output_type": "execute_result"
    }
   ],
   "source": [
    "r_max"
   ]
  },
  {
   "cell_type": "code",
   "execution_count": 21,
   "metadata": {},
   "outputs": [],
   "source": [
    "n = len(data_pre.index)\n",
    "d_pos = np.array([])\n",
    "d_neg = np.array([])\n",
    "for i in range(n):\n",
    "    # d+ 向量\n",
    "    d_pos = np.append(d_pos, np.sqrt(np.sum((r_max - R1[i, :]) ** 2)))\n",
    "    # d- 向量\n",
    "    d_neg = np.append(d_neg, np.sqrt(np.sum((r_min - R1[i, :]) ** 2)))"
   ]
  },
  {
   "cell_type": "code",
   "execution_count": 22,
   "metadata": {},
   "outputs": [],
   "source": [
    "score = d_neg/(d_pos + d_neg)"
   ]
  },
  {
   "cell_type": "code",
   "execution_count": 23,
   "metadata": {},
   "outputs": [],
   "source": [
    "Score = 100 * score / np.max(score)"
   ]
  },
  {
   "cell_type": "code",
   "execution_count": 24,
   "metadata": {},
   "outputs": [
    {
     "data": {
      "text/plain": [
       "array([100.        ,  46.72082004,  47.05845904,  14.04338538])"
      ]
     },
     "execution_count": 24,
     "metadata": {},
     "output_type": "execute_result"
    }
   ],
   "source": [
    "Score"
   ]
  },
  {
   "cell_type": "code",
   "execution_count": 25,
   "metadata": {},
   "outputs": [
    {
     "name": "stdout",
     "output_type": "stream",
     "text": [
      "单位A得分为:100.0\n",
      "单位B得分为:46.720820042953235\n",
      "单位C得分为:47.05845903818325\n",
      "单位D得分为:14.04338537742974\n"
     ]
    }
   ],
   "source": [
    "for i in range(n):\n",
    "    print('单位{}得分为:{}'.format(data_pre['单位'][i], Score[i]))"
   ]
  }
 ],
 "metadata": {
  "interpreter": {
   "hash": "58e310d5b656dab5f522120e8f0ff99331fea5999079767717c8bcf08eb99be4"
  },
  "kernelspec": {
   "display_name": "Python 3.7.0 ('ai_py')",
   "language": "python",
   "name": "python3"
  },
  "language_info": {
   "codemirror_mode": {
    "name": "ipython",
    "version": 3
   },
   "file_extension": ".py",
   "mimetype": "text/x-python",
   "name": "python",
   "nbconvert_exporter": "python",
   "pygments_lexer": "ipython3",
   "version": "3.7.0"
  },
  "orig_nbformat": 4
 },
 "nbformat": 4,
 "nbformat_minor": 2
}
