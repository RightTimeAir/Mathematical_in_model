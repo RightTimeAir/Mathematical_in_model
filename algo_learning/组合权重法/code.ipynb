{
 "cells": [
  {
   "cell_type": "code",
   "execution_count": 1,
   "metadata": {},
   "outputs": [],
   "source": [
    "import copy\n",
    "import numpy as np\n",
    "import pandas as pd"
   ]
  },
  {
   "cell_type": "code",
   "execution_count": 2,
   "metadata": {},
   "outputs": [],
   "source": [
    "data_pre = pd.read_excel('./data.xlsx')"
   ]
  },
  {
   "cell_type": "code",
   "execution_count": 3,
   "metadata": {},
   "outputs": [
    {
     "data": {
      "text/html": [
       "<div>\n",
       "<style scoped>\n",
       "    .dataframe tbody tr th:only-of-type {\n",
       "        vertical-align: middle;\n",
       "    }\n",
       "\n",
       "    .dataframe tbody tr th {\n",
       "        vertical-align: top;\n",
       "    }\n",
       "\n",
       "    .dataframe thead th {\n",
       "        text-align: right;\n",
       "    }\n",
       "</style>\n",
       "<table border=\"1\" class=\"dataframe\">\n",
       "  <thead>\n",
       "    <tr style=\"text-align: right;\">\n",
       "      <th></th>\n",
       "      <th>方案</th>\n",
       "      <th>P1</th>\n",
       "      <th>P2</th>\n",
       "      <th>P3</th>\n",
       "      <th>P4</th>\n",
       "    </tr>\n",
       "  </thead>\n",
       "  <tbody>\n",
       "    <tr>\n",
       "      <th>0</th>\n",
       "      <td>方案1</td>\n",
       "      <td>3.0</td>\n",
       "      <td>1.0</td>\n",
       "      <td>1.0</td>\n",
       "      <td>70</td>\n",
       "    </tr>\n",
       "    <tr>\n",
       "      <th>1</th>\n",
       "      <td>方案2</td>\n",
       "      <td>2.5</td>\n",
       "      <td>0.8</td>\n",
       "      <td>0.8</td>\n",
       "      <td>50</td>\n",
       "    </tr>\n",
       "    <tr>\n",
       "      <th>2</th>\n",
       "      <td>方案3</td>\n",
       "      <td>1.8</td>\n",
       "      <td>0.5</td>\n",
       "      <td>2.0</td>\n",
       "      <td>110</td>\n",
       "    </tr>\n",
       "    <tr>\n",
       "      <th>3</th>\n",
       "      <td>方案4</td>\n",
       "      <td>2.2</td>\n",
       "      <td>0.7</td>\n",
       "      <td>1.2</td>\n",
       "      <td>90</td>\n",
       "    </tr>\n",
       "  </tbody>\n",
       "</table>\n",
       "</div>"
      ],
      "text/plain": [
       "    方案   P1   P2   P3   P4\n",
       "0  方案1  3.0  1.0  1.0   70\n",
       "1  方案2  2.5  0.8  0.8   50\n",
       "2  方案3  1.8  0.5  2.0  110\n",
       "3  方案4  2.2  0.7  1.2   90"
      ]
     },
     "execution_count": 3,
     "metadata": {},
     "output_type": "execute_result"
    }
   ],
   "source": [
    "data_pre"
   ]
  },
  {
   "cell_type": "code",
   "execution_count": 4,
   "metadata": {},
   "outputs": [],
   "source": [
    "labels = data_pre.keys()[1:]\n",
    "names = data_pre['方案']\n",
    "values = data_pre[labels].values"
   ]
  },
  {
   "cell_type": "code",
   "execution_count": 5,
   "metadata": {},
   "outputs": [],
   "source": [
    "for i in [0, 2]:\n",
    "    values[:, i] = (np.max(values[:, i]) - values[:, i])/(np.max(values[:, i]) - np.min(values[:, i]))"
   ]
  },
  {
   "cell_type": "code",
   "execution_count": 6,
   "metadata": {},
   "outputs": [],
   "source": [
    "for i in [1, 3]:\n",
    "    values[:, i] = (values[:, i] - np.min(values[:, i]))/(np.max(values[:, i]) - np.min(values[:, i]))"
   ]
  },
  {
   "cell_type": "code",
   "execution_count": 7,
   "metadata": {},
   "outputs": [
    {
     "data": {
      "text/plain": [
       "array([[0.        , 1.        , 0.83333333, 0.33333333],\n",
       "       [0.41666667, 0.6       , 1.        , 0.        ],\n",
       "       [1.        , 0.        , 0.        , 1.        ],\n",
       "       [0.66666667, 0.4       , 0.66666667, 0.66666667]])"
      ]
     },
     "execution_count": 7,
     "metadata": {},
     "output_type": "execute_result"
    }
   ],
   "source": [
    "values"
   ]
  },
  {
   "cell_type": "code",
   "execution_count": 8,
   "metadata": {},
   "outputs": [
    {
     "name": "stderr",
     "output_type": "stream",
     "text": [
      "D:\\Anaconda3\\envs\\ai_py\\lib\\site-packages\\numpy\\lib\\function_base.py:2691: RuntimeWarning: invalid value encountered in true_divide\n",
      "  c /= stddev[:, None]\n",
      "D:\\Anaconda3\\envs\\ai_py\\lib\\site-packages\\numpy\\lib\\function_base.py:2692: RuntimeWarning: invalid value encountered in true_divide\n",
      "  c /= stddev[None, :]\n",
      "D:\\Anaconda3\\envs\\ai_py\\lib\\site-packages\\ipykernel_launcher.py:11: RuntimeWarning: divide by zero encountered in true_divide\n",
      "  # This is added back by InteractiveShellApp.init_path()\n"
     ]
    }
   ],
   "source": [
    "# 组合权重\n",
    "#各个赋权方法得到的权重\n",
    "W1=[0.3,0.4,0.15,0.15]\n",
    "W2=[0.4,0.3,0.15,0.15]\n",
    "W3=[0.25,0.25,0.25,0.25]\n",
    "W4=[0.2403,0.2294,0.3062,0.2242]\n",
    "W=np.array([W1,W2,W3,W4])\n",
    "r=np.corrcoef(W)   #求皮尔逊相关系数\n",
    "r = np.nan_to_num(r)\n",
    "# pearson相关系数 显著性检验\n",
    "t = np.abs(r) * np.sqrt((len(r) - 2)/(1 - r ** 2))\n",
    "t[np.isinf(t)] = 0\n",
    "alpha = 0.05\n",
    "# 求解 t 分布 alpha=0.05 上分位数\n",
    "from scipy import stats\n",
    "t_num = stats.t.isf(alpha/2, df=len(r)-2)"
   ]
  },
  {
   "cell_type": "code",
   "execution_count": 9,
   "metadata": {},
   "outputs": [
    {
     "data": {
      "text/plain": [
       "array([[0.        , 1.75      , 0.        , 0.75965385],\n",
       "       [1.75      , 0.        , 0.        , 0.60848883],\n",
       "       [0.        , 0.        , 0.        , 0.        ],\n",
       "       [0.75965385, 0.60848883, 0.        , 0.        ]])"
      ]
     },
     "execution_count": 9,
     "metadata": {},
     "output_type": "execute_result"
    }
   ],
   "source": [
    "t"
   ]
  },
  {
   "cell_type": "code",
   "execution_count": 10,
   "metadata": {},
   "outputs": [
    {
     "name": "stdout",
     "output_type": "stream",
     "text": [
      "一致性检验不通过\n"
     ]
    }
   ],
   "source": [
    "# 粗暴求和, 比较矩阵的大小\n",
    "if np.sum(t) < t_num * len(r) ** 2:\n",
    "    print('一致性检验不通过')\n",
    "    # CRITIC法赋权\n",
    "    thegma = W.std(axis=1)\n",
    "    f = np.sum((1-r), axis=1)\n",
    "    c = thegma * f\n",
    "    theta = c / c.sum()\n",
    "    Wc = W.T * theta\n",
    "    Wc = np.sum(Wc, axis=1)\n",
    "else:\n",
    "    print('一致性检验通过')\n",
    "    Wc = np.sum(W, axis=0)\n",
    "    Wc = Wc/np.sum(Wc)"
   ]
  },
  {
   "cell_type": "code",
   "execution_count": 11,
   "metadata": {},
   "outputs": [
    {
     "data": {
      "text/plain": [
       "array([0.32916576, 0.32835201, 0.17881339, 0.16368728])"
      ]
     },
     "execution_count": 11,
     "metadata": {},
     "output_type": "execute_result"
    }
   ],
   "source": [
    "Wc"
   ]
  },
  {
   "cell_type": "code",
   "execution_count": 12,
   "metadata": {},
   "outputs": [
    {
     "name": "stdout",
     "output_type": "stream",
     "text": [
      "方案1百分制评分为：91.85091826552814\n",
      "方案2百分制评分为：88.57894552940891\n",
      "方案3百分制评分为：85.1040171990309\n",
      "方案4百分制评分为：100.0\n"
     ]
    }
   ],
   "source": [
    "# 计算得分\n",
    "s = values @ Wc\n",
    "Score=100*s/max(s) #计算得分\n",
    "for i in range(0,len(Score)):\n",
    "    print(f\"{data_pre['方案'][i]}百分制评分为：{Score[i]}\") "
   ]
  },
  {
   "cell_type": "code",
   "execution_count": null,
   "metadata": {},
   "outputs": [],
   "source": []
  }
 ],
 "metadata": {
  "interpreter": {
   "hash": "58e310d5b656dab5f522120e8f0ff99331fea5999079767717c8bcf08eb99be4"
  },
  "kernelspec": {
   "display_name": "Python 3.7.0 ('ai_py')",
   "language": "python",
   "name": "python3"
  },
  "language_info": {
   "codemirror_mode": {
    "name": "ipython",
    "version": 3
   },
   "file_extension": ".py",
   "mimetype": "text/x-python",
   "name": "python",
   "nbconvert_exporter": "python",
   "pygments_lexer": "ipython3",
   "version": "3.7.0"
  },
  "orig_nbformat": 4
 },
 "nbformat": 4,
 "nbformat_minor": 2
}
