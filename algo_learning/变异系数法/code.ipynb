{
 "cells": [
  {
   "cell_type": "code",
   "execution_count": 1,
   "metadata": {},
   "outputs": [],
   "source": [
    "import copy\n",
    "import numpy as np\n",
    "import pandas as pd"
   ]
  },
  {
   "cell_type": "code",
   "execution_count": 2,
   "metadata": {},
   "outputs": [],
   "source": [
    "# 读取原始数据\n",
    "data_pre = pd.read_excel('./data.xlsx')"
   ]
  },
  {
   "cell_type": "code",
   "execution_count": 3,
   "metadata": {},
   "outputs": [
    {
     "data": {
      "text/html": [
       "<div>\n",
       "<style scoped>\n",
       "    .dataframe tbody tr th:only-of-type {\n",
       "        vertical-align: middle;\n",
       "    }\n",
       "\n",
       "    .dataframe tbody tr th {\n",
       "        vertical-align: top;\n",
       "    }\n",
       "\n",
       "    .dataframe thead th {\n",
       "        text-align: right;\n",
       "    }\n",
       "</style>\n",
       "<table border=\"1\" class=\"dataframe\">\n",
       "  <thead>\n",
       "    <tr style=\"text-align: right;\">\n",
       "      <th></th>\n",
       "      <th>风场名</th>\n",
       "      <th>A（高频率穿越能力）</th>\n",
       "      <th>B（低频率穿越能力）</th>\n",
       "      <th>C（低压穿越能力）</th>\n",
       "      <th>D（并网点电压偏差越限次数 ）</th>\n",
       "      <th>E（SVC/SVG响应性能指标）</th>\n",
       "      <th>F（有功控制能力）</th>\n",
       "      <th>G（功率因素越限）</th>\n",
       "    </tr>\n",
       "  </thead>\n",
       "  <tbody>\n",
       "    <tr>\n",
       "      <th>0</th>\n",
       "      <td>风场1</td>\n",
       "      <td>0.7430</td>\n",
       "      <td>0.8267</td>\n",
       "      <td>0.8324</td>\n",
       "      <td>12</td>\n",
       "      <td>0.8637</td>\n",
       "      <td>0.0743</td>\n",
       "      <td>0.0409</td>\n",
       "    </tr>\n",
       "    <tr>\n",
       "      <th>1</th>\n",
       "      <td>风场2</td>\n",
       "      <td>0.7567</td>\n",
       "      <td>0.8033</td>\n",
       "      <td>0.8736</td>\n",
       "      <td>10</td>\n",
       "      <td>0.8538</td>\n",
       "      <td>0.0665</td>\n",
       "      <td>0.0716</td>\n",
       "    </tr>\n",
       "    <tr>\n",
       "      <th>2</th>\n",
       "      <td>风场3</td>\n",
       "      <td>0.8104</td>\n",
       "      <td>0.7667</td>\n",
       "      <td>0.8539</td>\n",
       "      <td>16</td>\n",
       "      <td>0.9038</td>\n",
       "      <td>0.0881</td>\n",
       "      <td>0.0657</td>\n",
       "    </tr>\n",
       "  </tbody>\n",
       "</table>\n",
       "</div>"
      ],
      "text/plain": [
       "   风场名  A（高频率穿越能力）  B（低频率穿越能力）  C（低压穿越能力）  D（并网点电压偏差越限次数 ）  E（SVC/SVG响应性能指标）  \\\n",
       "0  风场1      0.7430      0.8267     0.8324               12            0.8637   \n",
       "1  风场2      0.7567      0.8033     0.8736               10            0.8538   \n",
       "2  风场3      0.8104      0.7667     0.8539               16            0.9038   \n",
       "\n",
       "   F（有功控制能力）  G（功率因素越限）  \n",
       "0     0.0743     0.0409  \n",
       "1     0.0665     0.0716  \n",
       "2     0.0881     0.0657  "
      ]
     },
     "execution_count": 3,
     "metadata": {},
     "output_type": "execute_result"
    }
   ],
   "source": [
    "data_pre"
   ]
  },
  {
   "cell_type": "code",
   "execution_count": 4,
   "metadata": {},
   "outputs": [],
   "source": [
    "# 指标正向化 D F G \n",
    "data = copy.deepcopy(data_pre)\n",
    "k = 0.1\n",
    "column_index = np.array([4, 6, 7])\n",
    "for i in column_index:\n",
    "    data.iloc[:, i] = 1/(data.iloc[:, i] + np.max(data.iloc[:, i]) + k)"
   ]
  },
  {
   "cell_type": "code",
   "execution_count": 5,
   "metadata": {},
   "outputs": [
    {
     "data": {
      "text/html": [
       "<div>\n",
       "<style scoped>\n",
       "    .dataframe tbody tr th:only-of-type {\n",
       "        vertical-align: middle;\n",
       "    }\n",
       "\n",
       "    .dataframe tbody tr th {\n",
       "        vertical-align: top;\n",
       "    }\n",
       "\n",
       "    .dataframe thead th {\n",
       "        text-align: right;\n",
       "    }\n",
       "</style>\n",
       "<table border=\"1\" class=\"dataframe\">\n",
       "  <thead>\n",
       "    <tr style=\"text-align: right;\">\n",
       "      <th></th>\n",
       "      <th>风场名</th>\n",
       "      <th>A（高频率穿越能力）</th>\n",
       "      <th>B（低频率穿越能力）</th>\n",
       "      <th>C（低压穿越能力）</th>\n",
       "      <th>D（并网点电压偏差越限次数 ）</th>\n",
       "      <th>E（SVC/SVG响应性能指标）</th>\n",
       "      <th>F（有功控制能力）</th>\n",
       "      <th>G（功率因素越限）</th>\n",
       "    </tr>\n",
       "  </thead>\n",
       "  <tbody>\n",
       "    <tr>\n",
       "      <th>0</th>\n",
       "      <td>风场1</td>\n",
       "      <td>0.7430</td>\n",
       "      <td>0.8267</td>\n",
       "      <td>0.8324</td>\n",
       "      <td>0.035587</td>\n",
       "      <td>0.8637</td>\n",
       "      <td>3.810976</td>\n",
       "      <td>4.705882</td>\n",
       "    </tr>\n",
       "    <tr>\n",
       "      <th>1</th>\n",
       "      <td>风场2</td>\n",
       "      <td>0.7567</td>\n",
       "      <td>0.8033</td>\n",
       "      <td>0.8736</td>\n",
       "      <td>0.038314</td>\n",
       "      <td>0.8538</td>\n",
       "      <td>3.927730</td>\n",
       "      <td>4.111842</td>\n",
       "    </tr>\n",
       "    <tr>\n",
       "      <th>2</th>\n",
       "      <td>风场3</td>\n",
       "      <td>0.8104</td>\n",
       "      <td>0.7667</td>\n",
       "      <td>0.8539</td>\n",
       "      <td>0.031153</td>\n",
       "      <td>0.9038</td>\n",
       "      <td>3.620565</td>\n",
       "      <td>4.214075</td>\n",
       "    </tr>\n",
       "  </tbody>\n",
       "</table>\n",
       "</div>"
      ],
      "text/plain": [
       "   风场名  A（高频率穿越能力）  B（低频率穿越能力）  C（低压穿越能力）  D（并网点电压偏差越限次数 ）  E（SVC/SVG响应性能指标）  \\\n",
       "0  风场1      0.7430      0.8267     0.8324         0.035587            0.8637   \n",
       "1  风场2      0.7567      0.8033     0.8736         0.038314            0.8538   \n",
       "2  风场3      0.8104      0.7667     0.8539         0.031153            0.9038   \n",
       "\n",
       "   F（有功控制能力）  G（功率因素越限）  \n",
       "0   3.810976   4.705882  \n",
       "1   3.927730   4.111842  \n",
       "2   3.620565   4.214075  "
      ]
     },
     "execution_count": 5,
     "metadata": {},
     "output_type": "execute_result"
    }
   ],
   "source": [
    "data"
   ]
  },
  {
   "cell_type": "code",
   "execution_count": 6,
   "metadata": {},
   "outputs": [],
   "source": [
    "# 数据标准化\n",
    "labels = data.keys()[1:]"
   ]
  },
  {
   "cell_type": "code",
   "execution_count": 7,
   "metadata": {},
   "outputs": [
    {
     "data": {
      "text/plain": [
       "Index(['A（高频率穿越能力）', 'B（低频率穿越能力）', 'C（低压穿越能力）', 'D（并网点电压偏差越限次数 ）',\n",
       "       'E（SVC/SVG响应性能指标）', 'F（有功控制能力）', 'G（功率因素越限）'],\n",
       "      dtype='object')"
      ]
     },
     "execution_count": 7,
     "metadata": {},
     "output_type": "execute_result"
    }
   ],
   "source": [
    "labels"
   ]
  },
  {
   "cell_type": "code",
   "execution_count": 8,
   "metadata": {},
   "outputs": [],
   "source": [
    "names = data['风场名']"
   ]
  },
  {
   "cell_type": "code",
   "execution_count": 9,
   "metadata": {},
   "outputs": [
    {
     "data": {
      "text/plain": [
       "0    风场1\n",
       "1    风场2\n",
       "2    风场3\n",
       "Name: 风场名, dtype: object"
      ]
     },
     "execution_count": 9,
     "metadata": {},
     "output_type": "execute_result"
    }
   ],
   "source": [
    "names"
   ]
  },
  {
   "cell_type": "code",
   "execution_count": 10,
   "metadata": {},
   "outputs": [],
   "source": [
    "values = data[labels].values"
   ]
  },
  {
   "cell_type": "code",
   "execution_count": 11,
   "metadata": {},
   "outputs": [
    {
     "data": {
      "text/plain": [
       "array([[0.743     , 0.8267    , 0.8324    , 0.03558719, 0.8637    ,\n",
       "        3.81097561, 4.70588235],\n",
       "       [0.7567    , 0.8033    , 0.8736    , 0.03831418, 0.8538    ,\n",
       "        3.92772977, 4.11184211],\n",
       "       [0.8104    , 0.7667    , 0.8539    , 0.03115265, 0.9038    ,\n",
       "        3.62056481, 4.21407501]])"
      ]
     },
     "execution_count": 11,
     "metadata": {},
     "output_type": "execute_result"
    }
   ],
   "source": [
    "values"
   ]
  },
  {
   "cell_type": "code",
   "execution_count": 12,
   "metadata": {},
   "outputs": [],
   "source": [
    "for i in range(len(labels)):\n",
    "    values[:, i] = values[:, i]/np.sqrt(np.sum(values[:, i] ** 2))    "
   ]
  },
  {
   "cell_type": "code",
   "execution_count": 13,
   "metadata": {},
   "outputs": [],
   "source": [
    "# 计算每列的均值\n",
    "values_mean = np.mean(values, axis=0)\n",
    "# 计算每列的标准差\n",
    "values_std = np.std(values, axis=0)\n",
    "# 计算变异系数\n",
    "v_values = values_std/values_mean"
   ]
  },
  {
   "cell_type": "code",
   "execution_count": 14,
   "metadata": {},
   "outputs": [
    {
     "data": {
      "text/plain": [
       "array([0.03777284, 0.03090712, 0.01971778, 0.08427819, 0.0247411 ,\n",
       "       0.0334341 , 0.05969646])"
      ]
     },
     "execution_count": 14,
     "metadata": {},
     "output_type": "execute_result"
    }
   ],
   "source": [
    "v_values"
   ]
  },
  {
   "cell_type": "code",
   "execution_count": 15,
   "metadata": {},
   "outputs": [],
   "source": [
    "# 计算权重\n",
    "w = v_values/np.sum(v_values)"
   ]
  },
  {
   "cell_type": "code",
   "execution_count": 16,
   "metadata": {},
   "outputs": [
    {
     "data": {
      "text/plain": [
       "array([0.1300057 , 0.10637542, 0.06786419, 0.29006673, 0.08515334,\n",
       "       0.11507271, 0.20546192])"
      ]
     },
     "execution_count": 16,
     "metadata": {},
     "output_type": "execute_result"
    }
   ],
   "source": [
    "w"
   ]
  },
  {
   "cell_type": "code",
   "execution_count": 17,
   "metadata": {},
   "outputs": [],
   "source": [
    "# 计算得分\n",
    "score = w @ values.T"
   ]
  },
  {
   "cell_type": "code",
   "execution_count": 18,
   "metadata": {},
   "outputs": [
    {
     "data": {
      "text/plain": [
       "array([0.587392  , 0.58711278, 0.55471112])"
      ]
     },
     "execution_count": 18,
     "metadata": {},
     "output_type": "execute_result"
    }
   ],
   "source": [
    "score"
   ]
  },
  {
   "cell_type": "code",
   "execution_count": 19,
   "metadata": {},
   "outputs": [],
   "source": [
    "Score = 100 * score / np.max(score)"
   ]
  },
  {
   "cell_type": "code",
   "execution_count": 20,
   "metadata": {},
   "outputs": [
    {
     "data": {
      "text/plain": [
       "array([100.        ,  99.95246424,  94.43627314])"
      ]
     },
     "execution_count": 20,
     "metadata": {},
     "output_type": "execute_result"
    }
   ],
   "source": [
    "Score"
   ]
  },
  {
   "cell_type": "code",
   "execution_count": 21,
   "metadata": {},
   "outputs": [
    {
     "name": "stdout",
     "output_type": "stream",
     "text": [
      "风场1的评分为100.0\n",
      "风场2的评分为99.9524642392077\n",
      "风场3的评分为94.436273143521\n"
     ]
    }
   ],
   "source": [
    "for i in range(len(names)):\n",
    "    print(\"{}的评分为{}\".format(names[i], Score[i]))"
   ]
  },
  {
   "cell_type": "code",
   "execution_count": null,
   "metadata": {},
   "outputs": [],
   "source": []
  }
 ],
 "metadata": {
  "interpreter": {
   "hash": "58e310d5b656dab5f522120e8f0ff99331fea5999079767717c8bcf08eb99be4"
  },
  "kernelspec": {
   "display_name": "Python 3.7.0 ('ai_py')",
   "language": "python",
   "name": "python3"
  },
  "language_info": {
   "codemirror_mode": {
    "name": "ipython",
    "version": 3
   },
   "file_extension": ".py",
   "mimetype": "text/x-python",
   "name": "python",
   "nbconvert_exporter": "python",
   "pygments_lexer": "ipython3",
   "version": "3.7.0"
  },
  "orig_nbformat": 4
 },
 "nbformat": 4,
 "nbformat_minor": 2
}
