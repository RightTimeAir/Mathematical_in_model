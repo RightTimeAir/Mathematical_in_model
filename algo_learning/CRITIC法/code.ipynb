{
 "cells": [
  {
   "cell_type": "code",
   "execution_count": 1,
   "metadata": {},
   "outputs": [],
   "source": [
    "import copy\n",
    "import numpy as np\n",
    "import pandas as pd"
   ]
  },
  {
   "cell_type": "code",
   "execution_count": 2,
   "metadata": {},
   "outputs": [],
   "source": [
    "data_pre = pd.read_excel('./data.xlsx')\n",
    "labels = data_pre.keys()[1:]\n",
    "names = data_pre['银行']\n",
    "values = data_pre[labels].values"
   ]
  },
  {
   "cell_type": "code",
   "execution_count": 3,
   "metadata": {},
   "outputs": [
    {
     "data": {
      "text/plain": [
       "array([[ 0.483 , 13.2682,  0.    ,  4.3646,  5.107 ],\n",
       "       [ 0.4035, 13.4909, 39.0131,  3.6151,  5.5005],\n",
       "       [ 0.8979, 25.7776,  9.0513,  4.892 ,  7.5342],\n",
       "       [ 0.5927, 16.0245, 13.2935,  4.4529,  6.5913]])"
      ]
     },
     "execution_count": 3,
     "metadata": {},
     "output_type": "execute_result"
    }
   ],
   "source": [
    "values"
   ]
  },
  {
   "cell_type": "code",
   "execution_count": 4,
   "metadata": {},
   "outputs": [],
   "source": [
    "# 正向化 & 标准化\n",
    "for i in range(len(labels)):\n",
    "    temp = values[:, i]\n",
    "    max_values = np.max(temp)\n",
    "    min_values = np.min(temp)\n",
    "    if i is 2:\n",
    "        values[:, i] = (max_values - temp)/(max_values - min_values)\n",
    "    else:\n",
    "        values[:, i] = (temp - min_values)/(max_values - min_values)"
   ]
  },
  {
   "cell_type": "code",
   "execution_count": 5,
   "metadata": {},
   "outputs": [],
   "source": [
    "# 信息承载量计算\n",
    "# 对比性\n",
    "thegma = values.std(axis=0)\n",
    "# 矛盾性 -> 计算皮尔逊相关系数\n",
    "r_pearson = np.corrcoef(values.T)"
   ]
  },
  {
   "cell_type": "code",
   "execution_count": 6,
   "metadata": {},
   "outputs": [
    {
     "data": {
      "text/plain": [
       "array([[1.        , 0.97898823, 0.43347316, 0.87878149, 0.92378756],\n",
       "       [0.97898823, 1.        , 0.2672594 , 0.76741534, 0.92090278],\n",
       "       [0.43347316, 0.2672594 , 1.        , 0.79834444, 0.1630603 ],\n",
       "       [0.87878149, 0.76741534, 0.79834444, 1.        , 0.72171726],\n",
       "       [0.92378756, 0.92090278, 0.1630603 , 0.72171726, 1.        ]])"
      ]
     },
     "execution_count": 6,
     "metadata": {},
     "output_type": "execute_result"
    }
   ],
   "source": [
    "r_pearson"
   ]
  },
  {
   "cell_type": "code",
   "execution_count": 7,
   "metadata": {},
   "outputs": [
    {
     "data": {
      "text/plain": [
       "array([0.3797096 , 0.40792698, 0.37133117, 0.35957058, 0.39172437])"
      ]
     },
     "execution_count": 7,
     "metadata": {},
     "output_type": "execute_result"
    }
   ],
   "source": [
    "thegma"
   ]
  },
  {
   "cell_type": "code",
   "execution_count": 8,
   "metadata": {},
   "outputs": [],
   "source": [
    "f_pearson = (1 - r_pearson).sum(axis=0)"
   ]
  },
  {
   "cell_type": "code",
   "execution_count": 9,
   "metadata": {},
   "outputs": [],
   "source": [
    "# 信息承载量\n",
    "c = thegma * f_pearson"
   ]
  },
  {
   "cell_type": "code",
   "execution_count": 10,
   "metadata": {},
   "outputs": [],
   "source": [
    "w = c/c.sum()"
   ]
  },
  {
   "cell_type": "code",
   "execution_count": 11,
   "metadata": {},
   "outputs": [],
   "source": [
    "# 得分\n",
    "score = values @ w"
   ]
  },
  {
   "cell_type": "code",
   "execution_count": 12,
   "metadata": {},
   "outputs": [],
   "source": [
    "Score = 100 * score/np.max(score)"
   ]
  },
  {
   "cell_type": "code",
   "execution_count": 13,
   "metadata": {},
   "outputs": [
    {
     "data": {
      "text/plain": [
       "array([ 49.70763423,   4.02501563, 100.        ,  58.40990039])"
      ]
     },
     "execution_count": 13,
     "metadata": {},
     "output_type": "execute_result"
    }
   ],
   "source": [
    "Score"
   ]
  },
  {
   "cell_type": "code",
   "execution_count": 14,
   "metadata": {},
   "outputs": [
    {
     "name": "stdout",
     "output_type": "stream",
     "text": [
      "中信的最终评分为49.70763422811035\n",
      "光大的最终评分为4.025015628082672\n",
      "浦发的最终评分为100.0\n",
      "招商的最终评分为58.409900390756505\n"
     ]
    }
   ],
   "source": [
    "for i in range(len(names)):\n",
    "    print(\"{}的最终评分为{}\".format(names[i], Score[i]))"
   ]
  },
  {
   "cell_type": "code",
   "execution_count": null,
   "metadata": {},
   "outputs": [],
   "source": []
  }
 ],
 "metadata": {
  "interpreter": {
   "hash": "58e310d5b656dab5f522120e8f0ff99331fea5999079767717c8bcf08eb99be4"
  },
  "kernelspec": {
   "display_name": "Python 3.7.0 ('ai_py')",
   "language": "python",
   "name": "python3"
  },
  "language_info": {
   "codemirror_mode": {
    "name": "ipython",
    "version": 3
   },
   "file_extension": ".py",
   "mimetype": "text/x-python",
   "name": "python",
   "nbconvert_exporter": "python",
   "pygments_lexer": "ipython3",
   "version": "3.7.0"
  },
  "orig_nbformat": 4
 },
 "nbformat": 4,
 "nbformat_minor": 2
}
