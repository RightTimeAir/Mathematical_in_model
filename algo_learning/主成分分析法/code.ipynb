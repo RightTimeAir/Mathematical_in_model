{
 "cells": [
  {
   "cell_type": "code",
   "execution_count": 1,
   "metadata": {},
   "outputs": [],
   "source": [
    "import copy\n",
    "import numpy as np\n",
    "import pandas as pd"
   ]
  },
  {
   "cell_type": "code",
   "execution_count": 2,
   "metadata": {},
   "outputs": [],
   "source": [
    "data_pre = pd.read_excel('./data.xlsx')\n",
    "labels = data_pre.keys()[1:]\n",
    "names = data_pre['机组编号']\n",
    "values = data_pre[labels].values"
   ]
  },
  {
   "cell_type": "code",
   "execution_count": 3,
   "metadata": {},
   "outputs": [
    {
     "data": {
      "text/plain": [
       "array([[0.2583, 0.1992, 0.4319, 0.3147],\n",
       "       [0.39  , 0.6203, 0.6013, 0.3914],\n",
       "       [0.2783, 0.3006, 0.3416, 0.1033],\n",
       "       [0.4055, 0.6492, 0.7649, 0.2321],\n",
       "       [0.501 , 0.7291, 0.6392, 0.4108]])"
      ]
     },
     "execution_count": 3,
     "metadata": {},
     "output_type": "execute_result"
    }
   ],
   "source": [
    "values"
   ]
  },
  {
   "cell_type": "code",
   "execution_count": 4,
   "metadata": {},
   "outputs": [],
   "source": [
    "# 指标正向化 & 标准化, z-score\n",
    "# from scipy import stats\n",
    "# stats.zscore()\n",
    "# from sklearn import preprocessing\n",
    "# preprocessing.scale()"
   ]
  },
  {
   "cell_type": "code",
   "execution_count": 5,
   "metadata": {},
   "outputs": [],
   "source": [
    "# 主成分分析\n",
    "# 计算相关系数矩阵\n",
    "# Matlab里面的corrcoef是对列两两取相关性系数，np.corrcoef是对行取，所以先转置一下\n",
    "R = np.corrcoef(values.T)\n",
    "# 计算 R 的特征值和特征向量\n",
    "eigen_values, eigen_vectors = np.linalg.eig(R)\n",
    "idx = np.argsort(eigen_values)[::-1]\n",
    "eigen_sort_values = eigen_values[idx]\n",
    "eigen_sort_vectors = eigen_vectors[:, idx]\n",
    "# 计算主成分贡献率及累计贡献率\n",
    "gong_xian = eigen_sort_values/np.sum(eigen_sort_values)\n",
    "gong_xian_lei = np.cumsum(gong_xian)\n",
    "first_id = np.argwhere(gong_xian_lei > 0.85).min()"
   ]
  },
  {
   "cell_type": "code",
   "execution_count": 6,
   "metadata": {},
   "outputs": [],
   "source": [
    "M_value = values @ eigen_sort_vectors"
   ]
  },
  {
   "cell_type": "code",
   "execution_count": 7,
   "metadata": {},
   "outputs": [],
   "source": [
    "F_score = M_value[:, :first_id+1] * gong_xian[:first_id+1]"
   ]
  },
  {
   "cell_type": "code",
   "execution_count": 8,
   "metadata": {},
   "outputs": [],
   "source": [
    "F_score[:, F_score.sum(axis=0) < 0] = -F_score[:, F_score.sum(axis=0) < 0]"
   ]
  },
  {
   "cell_type": "code",
   "execution_count": 9,
   "metadata": {},
   "outputs": [],
   "source": [
    "score = F_score.sum(axis=1)"
   ]
  },
  {
   "cell_type": "code",
   "execution_count": 10,
   "metadata": {},
   "outputs": [],
   "source": [
    "Score = score * 100/np.max(score)"
   ]
  },
  {
   "cell_type": "code",
   "execution_count": 11,
   "metadata": {},
   "outputs": [
    {
     "name": "stdout",
     "output_type": "stream",
     "text": [
      "1号机组的得分为49.430661757718916\n",
      "2号机组的得分为86.91572909812405\n",
      "3号机组的得分为47.2661405866315\n",
      "4号机组的得分为94.1884522176721\n",
      "5号机组的得分为100.0\n"
     ]
    }
   ],
   "source": [
    "for i in range(len(names)):\n",
    "    print(\"{}的得分为{}\".format(names[i], Score[i]))"
   ]
  },
  {
   "cell_type": "code",
   "execution_count": null,
   "metadata": {},
   "outputs": [],
   "source": []
  }
 ],
 "metadata": {
  "interpreter": {
   "hash": "58e310d5b656dab5f522120e8f0ff99331fea5999079767717c8bcf08eb99be4"
  },
  "kernelspec": {
   "display_name": "Python 3.7.0 ('ai_py')",
   "language": "python",
   "name": "python3"
  },
  "language_info": {
   "codemirror_mode": {
    "name": "ipython",
    "version": 3
   },
   "file_extension": ".py",
   "mimetype": "text/x-python",
   "name": "python",
   "nbconvert_exporter": "python",
   "pygments_lexer": "ipython3",
   "version": "3.7.0"
  },
  "orig_nbformat": 4
 },
 "nbformat": 4,
 "nbformat_minor": 2
}
