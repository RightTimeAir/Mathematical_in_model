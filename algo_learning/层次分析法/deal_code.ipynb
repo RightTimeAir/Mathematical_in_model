{
 "cells": [
  {
   "cell_type": "code",
   "execution_count": 78,
   "metadata": {},
   "outputs": [],
   "source": [
    "import numpy as np\n",
    "import pandas as pd"
   ]
  },
  {
   "cell_type": "code",
   "execution_count": 79,
   "metadata": {},
   "outputs": [],
   "source": [
    "judge_matrix = np.array([[1, 3, 1, 1/3], [1/3, 1, 1/2, 1/5], [1, 2, 1, 1/3], [3, 5, 3, 1]])"
   ]
  },
  {
   "cell_type": "code",
   "execution_count": 80,
   "metadata": {},
   "outputs": [],
   "source": [
    "index_n = 4"
   ]
  },
  {
   "cell_type": "code",
   "execution_count": 81,
   "metadata": {},
   "outputs": [],
   "source": [
    "D, V = np.linalg.eig(judge_matrix)"
   ]
  },
  {
   "cell_type": "code",
   "execution_count": 91,
   "metadata": {},
   "outputs": [],
   "source": [
    "lambda_max = np.max(D)\n",
    "lambda_max_id = np.argmax(D)\n",
    "lambda_max_vector = V[:, lambda_max_id]"
   ]
  },
  {
   "cell_type": "code",
   "execution_count": 93,
   "metadata": {},
   "outputs": [],
   "source": [
    "CI = (lambda_max - index_n)/(index_n - 1)"
   ]
  },
  {
   "cell_type": "code",
   "execution_count": 94,
   "metadata": {},
   "outputs": [],
   "source": [
    "RI = np.array([0, 0, 0.58, 0.90, 1.12, 1.24, 1.32, 1.41, 1.45])"
   ]
  },
  {
   "cell_type": "code",
   "execution_count": 95,
   "metadata": {},
   "outputs": [],
   "source": [
    "CR = CI/RI[index_n-1]"
   ]
  },
  {
   "cell_type": "code",
   "execution_count": 96,
   "metadata": {},
   "outputs": [
    {
     "name": "stdout",
     "output_type": "stream",
     "text": [
      "通过一致性检验\n"
     ]
    }
   ],
   "source": [
    "if CR >= 0.1:\n",
    "    print(\"未通过一致性检验\")\n",
    "else:\n",
    "    print(\"通过一致性检验\")"
   ]
  },
  {
   "cell_type": "code",
   "execution_count": 97,
   "metadata": {},
   "outputs": [],
   "source": [
    "# 计算综合得分\n",
    "vector_sum = np.sum(lambda_max_vector)\n",
    "quan_w = np.array([])\n",
    "for i in range(index_n):\n",
    "    quan_w = np.append(quan_w, lambda_max_vector[i]/vector_sum)"
   ]
  },
  {
   "cell_type": "code",
   "execution_count": 98,
   "metadata": {},
   "outputs": [],
   "source": [
    "score_per = np.array([[8, 7, 6, 8], [7, 8, 8, 7]])"
   ]
  },
  {
   "cell_type": "code",
   "execution_count": 99,
   "metadata": {},
   "outputs": [
    {
     "data": {
      "text/plain": [
       "array([0.20417516-0.j, 0.08719229-0.j, 0.18256154-0.j, 0.52607101-0.j])"
      ]
     },
     "execution_count": 99,
     "metadata": {},
     "output_type": "execute_result"
    }
   ],
   "source": [
    "quan_w"
   ]
  },
  {
   "cell_type": "code",
   "execution_count": 100,
   "metadata": {},
   "outputs": [],
   "source": [
    "score_all = score_per@quan_w"
   ]
  },
  {
   "cell_type": "code",
   "execution_count": 104,
   "metadata": {},
   "outputs": [
    {
     "name": "stdout",
     "output_type": "stream",
     "text": [
      "应该选择第0个同学\n"
     ]
    }
   ],
   "source": [
    "print(\"应该选择第{}个同学\".format(np.argmax(score_all)))"
   ]
  },
  {
   "cell_type": "code",
   "execution_count": null,
   "metadata": {},
   "outputs": [],
   "source": []
  }
 ],
 "metadata": {
  "interpreter": {
   "hash": "58e310d5b656dab5f522120e8f0ff99331fea5999079767717c8bcf08eb99be4"
  },
  "kernelspec": {
   "display_name": "Python 3.9.9 64-bit ('ai_py': conda)",
   "language": "python",
   "name": "python3"
  },
  "language_info": {
   "codemirror_mode": {
    "name": "ipython",
    "version": 3
   },
   "file_extension": ".py",
   "mimetype": "text/x-python",
   "name": "python",
   "nbconvert_exporter": "python",
   "pygments_lexer": "ipython3",
   "version": "3.7.12"
  },
  "orig_nbformat": 4
 },
 "nbformat": 4,
 "nbformat_minor": 2
}
