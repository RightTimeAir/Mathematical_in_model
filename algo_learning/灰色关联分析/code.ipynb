{
 "cells": [
  {
   "cell_type": "code",
   "execution_count": null,
   "metadata": {},
   "outputs": [],
   "source": [
    "import numpy as np\n",
    "import pandas as pd\n",
    "import matplotlib.pyplot as plt\n",
    "\n",
    "# 支持中文\n",
    "plt.rcParams['font.sans-serif'] = ['SimHei']  # 用来正常显示中文标签\n",
    "plt.rcParams['axes.unicode_minus'] = False  # 用来正常显示负号"
   ]
  },
  {
   "cell_type": "code",
   "execution_count": null,
   "metadata": {},
   "outputs": [],
   "source": [
    "data1 = pd.read_csv('./data1.csv')\n",
    "labels = data1.keys()[1:]\n",
    "years = data1['year']\n",
    "values = data1[labels].values"
   ]
  },
  {
   "cell_type": "code",
   "execution_count": null,
   "metadata": {},
   "outputs": [],
   "source": [
    "ymax = 1\n",
    "ymin = 0.002\n",
    "values_mapmaxmin = (ymax - ymin)*(values - values.min(axis=0))/(values.max(axis=0) - values.min(axis=0)) + ymin"
   ]
  },
  {
   "cell_type": "code",
   "execution_count": null,
   "metadata": {},
   "outputs": [],
   "source": [
    "labels"
   ]
  },
  {
   "cell_type": "code",
   "execution_count": null,
   "metadata": {},
   "outputs": [],
   "source": [
    "# 以 x1 为标准， 验证 x4-x7 指标之间的灰色关联度\n",
    "fig = plt.figure(num=1, dpi=400)\n",
    "ax = plt.axes()\n",
    "ax.plot(years, values_mapmaxmin[:, 0], linewidth=2)\n",
    "ax.plot(years, values_mapmaxmin[:, 3:7], '--', linewidth=1)\n",
    "ax.legend(labels[[0, 3, 4, 5, 6]])\n",
    "ax.set(title='灰色关联分析', xlabel='year')"
   ]
  },
  {
   "cell_type": "code",
   "execution_count": 50,
   "metadata": {},
   "outputs": [],
   "source": [
    "# 计算灰色相关系数\n",
    "# 分辨率 rho\n",
    "# 参考向量\n",
    "Y1 = values_mapmaxmin[:, 0]\n",
    "# 计算向量\n",
    "X1 = values_mapmaxmin[:, 3:7]\n",
    "# 生成绝对值矩阵\n",
    "A = np.abs((X1.T - Y1).T)\n",
    "# 绝对值矩阵全局最大值 最小值\n",
    "dMax = np.max(A)\n",
    "dMin = np.min(A)\n",
    "# 计算灰色关联矩阵\n",
    "rho = 0.5\n",
    "B = (dMin + rho * dMax)/(A + rho * dMax)\n",
    "# 计算灰色关联度\n",
    "thegma = np.average(B, axis=0)"
   ]
  },
  {
   "cell_type": "code",
   "execution_count": 52,
   "metadata": {},
   "outputs": [
    {
     "name": "stdout",
     "output_type": "stream",
     "text": [
      "x4, x5, x6, x7 与 x1 之间的灰色关联度分别为:[0.87690573 0.82158858 0.77336066 0.59604713]\n"
     ]
    }
   ],
   "source": [
    "print('x4, x5, x6, x7 与 x1 之间的灰色关联度分别为:{}'.format(thegma))"
   ]
  },
  {
   "cell_type": "code",
   "execution_count": null,
   "metadata": {},
   "outputs": [],
   "source": []
  }
 ],
 "metadata": {
  "interpreter": {
   "hash": "58e310d5b656dab5f522120e8f0ff99331fea5999079767717c8bcf08eb99be4"
  },
  "kernelspec": {
   "display_name": "Python 3.7.0 ('ai_py')",
   "language": "python",
   "name": "python3"
  },
  "language_info": {
   "codemirror_mode": {
    "name": "ipython",
    "version": 3
   },
   "file_extension": ".py",
   "mimetype": "text/x-python",
   "name": "python",
   "nbconvert_exporter": "python",
   "pygments_lexer": "ipython3",
   "version": "3.7.0"
  },
  "orig_nbformat": 4
 },
 "nbformat": 4,
 "nbformat_minor": 2
}
