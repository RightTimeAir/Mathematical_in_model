{
 "cells": [
  {
   "cell_type": "code",
   "execution_count": 29,
   "metadata": {},
   "outputs": [],
   "source": [
    "import numpy as np\n",
    "import pandas as pd\n",
    "import matplotlib.pyplot as plt\n",
    "\n",
    "# 支持中文\n",
    "plt.rcParams['font.sans-serif'] = ['SimHei']  # 用来正常显示中文标签\n",
    "plt.rcParams['axes.unicode_minus'] = False  # 用来正常显示负号"
   ]
  },
  {
   "cell_type": "code",
   "execution_count": 30,
   "metadata": {},
   "outputs": [],
   "source": [
    "# 案例二分析\n",
    "data2 = pd.read_excel('./data_topsis.xlsx')\n",
    "labels = data2.keys()[1:]\n",
    "years = data2['单位']\n",
    "values = data2[labels].values\n",
    "ymax = 1\n",
    "ymin = 0.002\n",
    "values_mapmaxmin = (ymax - ymin)*(values - values.min(axis=0))/(values.max(axis=0) - values.min(axis=0)) + ymin"
   ]
  },
  {
   "cell_type": "code",
   "execution_count": 31,
   "metadata": {},
   "outputs": [],
   "source": [
    "# 最小参考向量\n",
    "vMin = np.min(values_mapmaxmin, axis=0)\n",
    "# 最大参考向量\n",
    "vMax = np.max(values_mapmaxmin, axis=0)\n",
    "# 与最大值的灰色相关系数\n",
    "data_max = np.abs(values_mapmaxmin - vMax)\n",
    "# 得到最大值 最小值\n",
    "dMax_max = np.max(data_max)\n",
    "dMin_max = np.min(data_max)\n",
    "# 分辨系数\n",
    "rho_max = 0.5\n",
    "B_max = (dMin_max + rho_max * dMax_max)/(data_max + rho_max * dMax_max)\n",
    "# 计算灰色关联度\n",
    "thegma_max = np.average(B_max, axis=1)"
   ]
  },
  {
   "cell_type": "code",
   "execution_count": 32,
   "metadata": {},
   "outputs": [],
   "source": [
    "# 与最小值的灰色相关系数\n",
    "data_min = np.abs(values_mapmaxmin - vMin)\n",
    "# 得到最大值 最小值\n",
    "dMax_min = np.max(data_min)\n",
    "dMin_min = np.min(data_min)\n",
    "# 分辨系数\n",
    "rho_min = 0.5\n",
    "B_min = (dMin_min + rho_min * dMax_min)/(data_min + rho_min * dMax_min)\n",
    "# 计算灰色关联度\n",
    "thegma_min = np.average(B_min, axis=1)"
   ]
  },
  {
   "cell_type": "code",
   "execution_count": 33,
   "metadata": {},
   "outputs": [],
   "source": [
    "Score = 1/(1 + thegma_min/thegma_max)**2"
   ]
  },
  {
   "cell_type": "code",
   "execution_count": 35,
   "metadata": {},
   "outputs": [
    {
     "data": {
      "text/plain": [
       "array([0.44444444, 0.26326562, 0.20991983, 0.09439918])"
      ]
     },
     "execution_count": 35,
     "metadata": {},
     "output_type": "execute_result"
    }
   ],
   "source": [
    "Score"
   ]
  },
  {
   "cell_type": "code",
   "execution_count": null,
   "metadata": {},
   "outputs": [],
   "source": []
  }
 ],
 "metadata": {
  "interpreter": {
   "hash": "58e310d5b656dab5f522120e8f0ff99331fea5999079767717c8bcf08eb99be4"
  },
  "kernelspec": {
   "display_name": "Python 3.7.0 ('ai_py')",
   "language": "python",
   "name": "python3"
  },
  "language_info": {
   "codemirror_mode": {
    "name": "ipython",
    "version": 3
   },
   "file_extension": ".py",
   "mimetype": "text/x-python",
   "name": "python",
   "nbconvert_exporter": "python",
   "pygments_lexer": "ipython3",
   "version": "3.7.0"
  },
  "orig_nbformat": 4
 },
 "nbformat": 4,
 "nbformat_minor": 2
}
