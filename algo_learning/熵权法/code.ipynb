{
 "cells": [
  {
   "cell_type": "code",
   "execution_count": 183,
   "metadata": {},
   "outputs": [],
   "source": [
    "import numpy as np\n",
    "import pandas as pd"
   ]
  },
  {
   "cell_type": "code",
   "execution_count": 184,
   "metadata": {},
   "outputs": [],
   "source": [
    "# 读取数据\n",
    "bank_data = pd.read_excel(\"./data.xlsx\")"
   ]
  },
  {
   "cell_type": "code",
   "execution_count": 185,
   "metadata": {},
   "outputs": [
    {
     "data": {
      "text/html": [
       "<div>\n",
       "<style scoped>\n",
       "    .dataframe tbody tr th:only-of-type {\n",
       "        vertical-align: middle;\n",
       "    }\n",
       "\n",
       "    .dataframe tbody tr th {\n",
       "        vertical-align: top;\n",
       "    }\n",
       "\n",
       "    .dataframe thead th {\n",
       "        text-align: right;\n",
       "    }\n",
       "</style>\n",
       "<table border=\"1\" class=\"dataframe\">\n",
       "  <thead>\n",
       "    <tr style=\"text-align: right;\">\n",
       "      <th></th>\n",
       "      <th>序号</th>\n",
       "      <th>行名</th>\n",
       "      <th>A</th>\n",
       "      <th>B</th>\n",
       "      <th>C</th>\n",
       "      <th>D</th>\n",
       "      <th>E</th>\n",
       "      <th>F</th>\n",
       "      <th>G</th>\n",
       "    </tr>\n",
       "  </thead>\n",
       "  <tbody>\n",
       "    <tr>\n",
       "      <th>0</th>\n",
       "      <td>1</td>\n",
       "      <td>交通</td>\n",
       "      <td>0.3433</td>\n",
       "      <td>8.9094</td>\n",
       "      <td>20.6813</td>\n",
       "      <td>3.5214</td>\n",
       "      <td>79.5984</td>\n",
       "      <td>4.5574</td>\n",
       "      <td>5.0023</td>\n",
       "    </tr>\n",
       "    <tr>\n",
       "      <th>1</th>\n",
       "      <td>2</td>\n",
       "      <td>中信</td>\n",
       "      <td>0.4830</td>\n",
       "      <td>13.2682</td>\n",
       "      <td>0.0000</td>\n",
       "      <td>1.9519</td>\n",
       "      <td>101.4817</td>\n",
       "      <td>4.3646</td>\n",
       "      <td>5.1070</td>\n",
       "    </tr>\n",
       "    <tr>\n",
       "      <th>2</th>\n",
       "      <td>3</td>\n",
       "      <td>光大</td>\n",
       "      <td>0.4035</td>\n",
       "      <td>13.4909</td>\n",
       "      <td>39.0131</td>\n",
       "      <td>3.3498</td>\n",
       "      <td>78.4041</td>\n",
       "      <td>3.6151</td>\n",
       "      <td>5.5005</td>\n",
       "    </tr>\n",
       "    <tr>\n",
       "      <th>3</th>\n",
       "      <td>4</td>\n",
       "      <td>华夏</td>\n",
       "      <td>0.8377</td>\n",
       "      <td>17.4040</td>\n",
       "      <td>0.0000</td>\n",
       "      <td>3.2115</td>\n",
       "      <td>138.6181</td>\n",
       "      <td>5.9182</td>\n",
       "      <td>5.2022</td>\n",
       "    </tr>\n",
       "    <tr>\n",
       "      <th>4</th>\n",
       "      <td>5</td>\n",
       "      <td>民生</td>\n",
       "      <td>0.8383</td>\n",
       "      <td>25.0591</td>\n",
       "      <td>8.8965</td>\n",
       "      <td>2.8677</td>\n",
       "      <td>84.7411</td>\n",
       "      <td>4.5657</td>\n",
       "      <td>4.9068</td>\n",
       "    </tr>\n",
       "  </tbody>\n",
       "</table>\n",
       "</div>"
      ],
      "text/plain": [
       "   序号  行名       A        B        C       D         E       F       G\n",
       "0   1  交通  0.3433   8.9094  20.6813  3.5214   79.5984  4.5574  5.0023\n",
       "1   2  中信  0.4830  13.2682   0.0000  1.9519  101.4817  4.3646  5.1070\n",
       "2   3  光大  0.4035  13.4909  39.0131  3.3498   78.4041  3.6151  5.5005\n",
       "3   4  华夏  0.8377  17.4040   0.0000  3.2115  138.6181  5.9182  5.2022\n",
       "4   5  民生  0.8383  25.0591   8.8965  2.8677   84.7411  4.5657  4.9068"
      ]
     },
     "execution_count": 185,
     "metadata": {},
     "output_type": "execute_result"
    }
   ],
   "source": [
    "bank_data.head()"
   ]
  },
  {
   "cell_type": "code",
   "execution_count": 186,
   "metadata": {},
   "outputs": [],
   "source": [
    "# 正向化\n",
    "labels = bank_data.keys()[2:]"
   ]
  },
  {
   "cell_type": "code",
   "execution_count": 187,
   "metadata": {},
   "outputs": [
    {
     "data": {
      "text/plain": [
       "Index(['A', 'B', 'C', 'D', 'E', 'F', 'G'], dtype='object')"
      ]
     },
     "execution_count": 187,
     "metadata": {},
     "output_type": "execute_result"
    }
   ],
   "source": [
    "labels"
   ]
  },
  {
   "cell_type": "code",
   "execution_count": 188,
   "metadata": {},
   "outputs": [],
   "source": [
    "data = bank_data[labels].values"
   ]
  },
  {
   "cell_type": "code",
   "execution_count": 189,
   "metadata": {},
   "outputs": [],
   "source": [
    "data[:, 2] = np.max(data[:, 2]) - data[:, 2]\n",
    "data[:, 3] = np.max(data[:, 3]) - data[:, 3]"
   ]
  },
  {
   "cell_type": "code",
   "execution_count": 190,
   "metadata": {},
   "outputs": [],
   "source": [
    "a = 90\n",
    "data[:, 4] = 1 - np.abs(data[:, 4] - a)/np.max(np.abs(data[:, 4] - a))"
   ]
  },
  {
   "cell_type": "code",
   "execution_count": 191,
   "metadata": {},
   "outputs": [],
   "source": [
    "# 标准归一化\n",
    "ymax = 1\n",
    "ymin = 0.002\n",
    "for i in range(len(labels)):\n",
    "    data[:, i] = (ymax - ymin) * (data[:, i] - np.min(data[:, i]))/(np.max(data[:, i]) - np.min(data[:, i])) + ymin"
   ]
  },
  {
   "cell_type": "code",
   "execution_count": 192,
   "metadata": {},
   "outputs": [],
   "source": [
    "# 计算信息熵\n",
    "m = len(bank_data.index)\n",
    "n = len(labels)\n",
    "P = np.zeros((m, n))\n",
    "E = np.zeros(n)\n",
    "for i in range(n):\n",
    "    P[:, i] = data[:, i]/np.sum(data[:, i])"
   ]
  },
  {
   "cell_type": "code",
   "execution_count": 193,
   "metadata": {},
   "outputs": [],
   "source": [
    "for i in range(n):\n",
    "    E[i] = -1/np.log(m)*np.sum(P[:, i]*np.log(P[:, i]))"
   ]
  },
  {
   "cell_type": "code",
   "execution_count": 194,
   "metadata": {},
   "outputs": [
    {
     "data": {
      "text/plain": [
       "array([0.86987992, 0.88656438, 0.94838007, 0.92377223, 0.95517581,\n",
       "       0.78689395, 0.93733808])"
      ]
     },
     "execution_count": 194,
     "metadata": {},
     "output_type": "execute_result"
    }
   ],
   "source": [
    "E"
   ]
  },
  {
   "cell_type": "code",
   "execution_count": 195,
   "metadata": {},
   "outputs": [],
   "source": [
    "# 计算权重和得分\n",
    "w = (1 - E)/np.sum(1 - E)"
   ]
  },
  {
   "cell_type": "code",
   "execution_count": 199,
   "metadata": {},
   "outputs": [],
   "source": [
    "score = data@w"
   ]
  },
  {
   "cell_type": "code",
   "execution_count": 200,
   "metadata": {},
   "outputs": [],
   "source": [
    "Score = 100 * score/np.max(score)"
   ]
  },
  {
   "cell_type": "code",
   "execution_count": 205,
   "metadata": {},
   "outputs": [
    {
     "name": "stdout",
     "output_type": "stream",
     "text": [
      "交通银行的得分为55.22686968640612\n",
      "中信银行的得分为74.8128518423185\n",
      "光大银行的得分为51.226687076435915\n",
      "华夏银行的得分为85.69451914502261\n",
      "民生银行的得分为92.15585777670681\n",
      "广发银行的得分为50.60200006086442\n",
      "深发银行的得分为100.0\n",
      "招商银行的得分为77.58956572233534\n",
      "兴业银行的得分为83.03155607935089\n",
      "浦发银行的得分为93.40898903564262\n",
      "烟台银行的得分为82.55569710230513\n",
      "蚌埠银行的得分为28.160943174434422\n"
     ]
    }
   ],
   "source": [
    "for i in range(len(Score)):\n",
    "    name = bank_data['行名'][i]\n",
    "    print('{}银行的得分为{}'.format(name, Score[i]))"
   ]
  },
  {
   "cell_type": "code",
   "execution_count": null,
   "metadata": {},
   "outputs": [],
   "source": []
  }
 ],
 "metadata": {
  "interpreter": {
   "hash": "58e310d5b656dab5f522120e8f0ff99331fea5999079767717c8bcf08eb99be4"
  },
  "kernelspec": {
   "display_name": "Python 3.7.12 64-bit ('ai_py': conda)",
   "language": "python",
   "name": "python3"
  },
  "language_info": {
   "codemirror_mode": {
    "name": "ipython",
    "version": 3
   },
   "file_extension": ".py",
   "mimetype": "text/x-python",
   "name": "python",
   "nbconvert_exporter": "python",
   "pygments_lexer": "ipython3",
   "version": "3.7.0"
  },
  "orig_nbformat": 4
 },
 "nbformat": 4,
 "nbformat_minor": 2
}
